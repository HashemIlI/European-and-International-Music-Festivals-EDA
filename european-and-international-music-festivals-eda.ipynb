{
 "cells": [
  {
   "cell_type": "markdown",
   "id": "107b1c6d",
   "metadata": {
    "papermill": {
     "duration": 0.003786,
     "end_time": "2024-08-04T16:18:01.055084",
     "exception": false,
     "start_time": "2024-08-04T16:18:01.051298",
     "status": "completed"
    },
    "tags": []
   },
   "source": [
    "## Import Libraries"
   ]
  },
  {
   "cell_type": "code",
   "execution_count": 1,
   "id": "05d91151",
   "metadata": {
    "execution": {
     "iopub.execute_input": "2024-08-04T16:18:01.064061Z",
     "iopub.status.busy": "2024-08-04T16:18:01.063547Z",
     "iopub.status.idle": "2024-08-04T16:18:03.387717Z",
     "shell.execute_reply": "2024-08-04T16:18:03.386327Z"
    },
    "papermill": {
     "duration": 2.331825,
     "end_time": "2024-08-04T16:18:03.390522",
     "exception": false,
     "start_time": "2024-08-04T16:18:01.058697",
     "status": "completed"
    },
    "tags": []
   },
   "outputs": [],
   "source": [
    "import pandas as pd\n",
    "import numpy as np\n",
    "import matplotlib.pyplot as plt\n",
    "%matplotlib inline\n",
    "import seaborn as sns"
   ]
  },
  {
   "cell_type": "markdown",
   "id": "4f99c65b",
   "metadata": {
    "papermill": {
     "duration": 0.003114,
     "end_time": "2024-08-04T16:18:03.397205",
     "exception": false,
     "start_time": "2024-08-04T16:18:03.394091",
     "status": "completed"
    },
    "tags": []
   },
   "source": [
    "## Read Our Data"
   ]
  },
  {
   "cell_type": "code",
   "execution_count": 2,
   "id": "9266a869",
   "metadata": {
    "execution": {
     "iopub.execute_input": "2024-08-04T16:18:03.406492Z",
     "iopub.status.busy": "2024-08-04T16:18:03.405294Z",
     "iopub.status.idle": "2024-08-04T16:18:03.425526Z",
     "shell.execute_reply": "2024-08-04T16:18:03.424419Z"
    },
    "papermill": {
     "duration": 0.027633,
     "end_time": "2024-08-04T16:18:03.428120",
     "exception": false,
     "start_time": "2024-08-04T16:18:03.400487",
     "status": "completed"
    },
    "tags": []
   },
   "outputs": [],
   "source": [
    "df = pd.read_csv('/kaggle/input/aereregre/data.csv')"
   ]
  },
  {
   "cell_type": "code",
   "execution_count": 3,
   "id": "34a472f3",
   "metadata": {
    "execution": {
     "iopub.execute_input": "2024-08-04T16:18:03.436870Z",
     "iopub.status.busy": "2024-08-04T16:18:03.436435Z",
     "iopub.status.idle": "2024-08-04T16:18:03.461802Z",
     "shell.execute_reply": "2024-08-04T16:18:03.460374Z"
    },
    "papermill": {
     "duration": 0.03278,
     "end_time": "2024-08-04T16:18:03.464433",
     "exception": false,
     "start_time": "2024-08-04T16:18:03.431653",
     "status": "completed"
    },
    "tags": []
   },
   "outputs": [
    {
     "data": {
      "text/html": [
       "<div>\n",
       "<style scoped>\n",
       "    .dataframe tbody tr th:only-of-type {\n",
       "        vertical-align: middle;\n",
       "    }\n",
       "\n",
       "    .dataframe tbody tr th {\n",
       "        vertical-align: top;\n",
       "    }\n",
       "\n",
       "    .dataframe thead th {\n",
       "        text-align: right;\n",
       "    }\n",
       "</style>\n",
       "<table border=\"1\" class=\"dataframe\">\n",
       "  <thead>\n",
       "    <tr style=\"text-align: right;\">\n",
       "      <th></th>\n",
       "      <th>Unnamed: 0</th>\n",
       "      <th>Festival_Name</th>\n",
       "      <th>Location</th>\n",
       "      <th>Attendance_Numbers</th>\n",
       "      <th>Visitor_Demographics</th>\n",
       "      <th>Economic_Impact</th>\n",
       "      <th>Music_Genre</th>\n",
       "    </tr>\n",
       "  </thead>\n",
       "  <tbody>\n",
       "    <tr>\n",
       "      <th>0</th>\n",
       "      <td>0</td>\n",
       "      <td>UK</td>\n",
       "      <td>200000</td>\n",
       "      <td>18-35</td>\n",
       "      <td>Music Enthusiasts</td>\n",
       "      <td>£100 million</td>\n",
       "      <td>Various</td>\n",
       "    </tr>\n",
       "    <tr>\n",
       "      <th>1</th>\n",
       "      <td>1</td>\n",
       "      <td>Belgium</td>\n",
       "      <td>400000</td>\n",
       "      <td>18-30</td>\n",
       "      <td>EDM Fans</td>\n",
       "      <td>€150 million</td>\n",
       "      <td>EDM</td>\n",
       "    </tr>\n",
       "    <tr>\n",
       "      <th>2</th>\n",
       "      <td>2</td>\n",
       "      <td>Hungary</td>\n",
       "      <td>500000</td>\n",
       "      <td>18-40</td>\n",
       "      <td>International Attendees</td>\n",
       "      <td>€130 million</td>\n",
       "      <td>Various</td>\n",
       "    </tr>\n",
       "    <tr>\n",
       "      <th>3</th>\n",
       "      <td>3</td>\n",
       "      <td>Germany</td>\n",
       "      <td>90000</td>\n",
       "      <td>20-40</td>\n",
       "      <td>Rock Fans</td>\n",
       "      <td>€80 million</td>\n",
       "      <td>Rock</td>\n",
       "    </tr>\n",
       "    <tr>\n",
       "      <th>4</th>\n",
       "      <td>4</td>\n",
       "      <td>Denmark</td>\n",
       "      <td>130000</td>\n",
       "      <td>18-40</td>\n",
       "      <td>Alternative Music Lovers</td>\n",
       "      <td>DKK 70 million</td>\n",
       "      <td>Alternative</td>\n",
       "    </tr>\n",
       "  </tbody>\n",
       "</table>\n",
       "</div>"
      ],
      "text/plain": [
       "   Unnamed: 0 Festival_Name  Location Attendance_Numbers  \\\n",
       "0           0            UK    200000              18-35   \n",
       "1           1       Belgium    400000              18-30   \n",
       "2           2       Hungary    500000              18-40   \n",
       "3           3       Germany     90000              20-40   \n",
       "4           4       Denmark    130000              18-40   \n",
       "\n",
       "        Visitor_Demographics Economic_Impact  Music_Genre  \n",
       "0          Music Enthusiasts    £100 million      Various  \n",
       "1                   EDM Fans    €150 million          EDM  \n",
       "2    International Attendees    €130 million      Various  \n",
       "3                  Rock Fans     €80 million         Rock  \n",
       "4   Alternative Music Lovers  DKK 70 million  Alternative  "
      ]
     },
     "execution_count": 3,
     "metadata": {},
     "output_type": "execute_result"
    }
   ],
   "source": [
    "df.head()"
   ]
  },
  {
   "cell_type": "markdown",
   "id": "1f2e7ae4",
   "metadata": {
    "papermill": {
     "duration": 0.003851,
     "end_time": "2024-08-04T16:18:03.472262",
     "exception": false,
     "start_time": "2024-08-04T16:18:03.468411",
     "status": "completed"
    },
    "tags": []
   },
   "source": [
    "## Learn More About Our Data"
   ]
  },
  {
   "cell_type": "code",
   "execution_count": 4,
   "id": "ae7cfab5",
   "metadata": {
    "execution": {
     "iopub.execute_input": "2024-08-04T16:18:03.483246Z",
     "iopub.status.busy": "2024-08-04T16:18:03.482009Z",
     "iopub.status.idle": "2024-08-04T16:18:03.508980Z",
     "shell.execute_reply": "2024-08-04T16:18:03.507443Z"
    },
    "papermill": {
     "duration": 0.03505,
     "end_time": "2024-08-04T16:18:03.511623",
     "exception": false,
     "start_time": "2024-08-04T16:18:03.476573",
     "status": "completed"
    },
    "tags": []
   },
   "outputs": [
    {
     "name": "stdout",
     "output_type": "stream",
     "text": [
      "<class 'pandas.core.frame.DataFrame'>\n",
      "RangeIndex: 205 entries, 0 to 204\n",
      "Data columns (total 7 columns):\n",
      " #   Column                Non-Null Count  Dtype \n",
      "---  ------                --------------  ----- \n",
      " 0   Unnamed: 0            205 non-null    int64 \n",
      " 1   Festival_Name         205 non-null    object\n",
      " 2   Location              205 non-null    int64 \n",
      " 3   Attendance_Numbers    205 non-null    object\n",
      " 4   Visitor_Demographics  205 non-null    object\n",
      " 5   Economic_Impact       205 non-null    object\n",
      " 6   Music_Genre           205 non-null    object\n",
      "dtypes: int64(2), object(5)\n",
      "memory usage: 11.3+ KB\n"
     ]
    }
   ],
   "source": [
    "df.info()"
   ]
  },
  {
   "cell_type": "code",
   "execution_count": 5,
   "id": "a85a6981",
   "metadata": {
    "execution": {
     "iopub.execute_input": "2024-08-04T16:18:03.522052Z",
     "iopub.status.busy": "2024-08-04T16:18:03.520925Z",
     "iopub.status.idle": "2024-08-04T16:18:03.542874Z",
     "shell.execute_reply": "2024-08-04T16:18:03.541709Z"
    },
    "papermill": {
     "duration": 0.029659,
     "end_time": "2024-08-04T16:18:03.545336",
     "exception": false,
     "start_time": "2024-08-04T16:18:03.515677",
     "status": "completed"
    },
    "tags": []
   },
   "outputs": [
    {
     "data": {
      "text/html": [
       "<div>\n",
       "<style scoped>\n",
       "    .dataframe tbody tr th:only-of-type {\n",
       "        vertical-align: middle;\n",
       "    }\n",
       "\n",
       "    .dataframe tbody tr th {\n",
       "        vertical-align: top;\n",
       "    }\n",
       "\n",
       "    .dataframe thead th {\n",
       "        text-align: right;\n",
       "    }\n",
       "</style>\n",
       "<table border=\"1\" class=\"dataframe\">\n",
       "  <thead>\n",
       "    <tr style=\"text-align: right;\">\n",
       "      <th></th>\n",
       "      <th>Unnamed: 0</th>\n",
       "      <th>Location</th>\n",
       "    </tr>\n",
       "  </thead>\n",
       "  <tbody>\n",
       "    <tr>\n",
       "      <th>count</th>\n",
       "      <td>205.000000</td>\n",
       "      <td>205.000000</td>\n",
       "    </tr>\n",
       "    <tr>\n",
       "      <th>mean</th>\n",
       "      <td>102.000000</td>\n",
       "      <td>41829.268293</td>\n",
       "    </tr>\n",
       "    <tr>\n",
       "      <th>std</th>\n",
       "      <td>59.322565</td>\n",
       "      <td>54614.828859</td>\n",
       "    </tr>\n",
       "    <tr>\n",
       "      <th>min</th>\n",
       "      <td>0.000000</td>\n",
       "      <td>5000.000000</td>\n",
       "    </tr>\n",
       "    <tr>\n",
       "      <th>25%</th>\n",
       "      <td>51.000000</td>\n",
       "      <td>15000.000000</td>\n",
       "    </tr>\n",
       "    <tr>\n",
       "      <th>50%</th>\n",
       "      <td>102.000000</td>\n",
       "      <td>30000.000000</td>\n",
       "    </tr>\n",
       "    <tr>\n",
       "      <th>75%</th>\n",
       "      <td>153.000000</td>\n",
       "      <td>45000.000000</td>\n",
       "    </tr>\n",
       "    <tr>\n",
       "      <th>max</th>\n",
       "      <td>204.000000</td>\n",
       "      <td>500000.000000</td>\n",
       "    </tr>\n",
       "  </tbody>\n",
       "</table>\n",
       "</div>"
      ],
      "text/plain": [
       "       Unnamed: 0       Location\n",
       "count  205.000000     205.000000\n",
       "mean   102.000000   41829.268293\n",
       "std     59.322565   54614.828859\n",
       "min      0.000000    5000.000000\n",
       "25%     51.000000   15000.000000\n",
       "50%    102.000000   30000.000000\n",
       "75%    153.000000   45000.000000\n",
       "max    204.000000  500000.000000"
      ]
     },
     "execution_count": 5,
     "metadata": {},
     "output_type": "execute_result"
    }
   ],
   "source": [
    "df.describe()"
   ]
  },
  {
   "cell_type": "markdown",
   "id": "406d29b9",
   "metadata": {
    "papermill": {
     "duration": 0.003839,
     "end_time": "2024-08-04T16:18:03.553336",
     "exception": false,
     "start_time": "2024-08-04T16:18:03.549497",
     "status": "completed"
    },
    "tags": []
   },
   "source": [
    "## Which country has more number of music festivals organized ?"
   ]
  },
  {
   "cell_type": "code",
   "execution_count": 6,
   "id": "ef8ce311",
   "metadata": {
    "execution": {
     "iopub.execute_input": "2024-08-04T16:18:03.563092Z",
     "iopub.status.busy": "2024-08-04T16:18:03.562674Z",
     "iopub.status.idle": "2024-08-04T16:18:03.571186Z",
     "shell.execute_reply": "2024-08-04T16:18:03.569784Z"
    },
    "papermill": {
     "duration": 0.016453,
     "end_time": "2024-08-04T16:18:03.573783",
     "exception": false,
     "start_time": "2024-08-04T16:18:03.557330",
     "status": "completed"
    },
    "tags": []
   },
   "outputs": [],
   "source": [
    "festival_counts = df['Location'].value_counts()"
   ]
  },
  {
   "cell_type": "code",
   "execution_count": 7,
   "id": "c5d4aac8",
   "metadata": {
    "execution": {
     "iopub.execute_input": "2024-08-04T16:18:03.584034Z",
     "iopub.status.busy": "2024-08-04T16:18:03.583604Z",
     "iopub.status.idle": "2024-08-04T16:18:03.590590Z",
     "shell.execute_reply": "2024-08-04T16:18:03.589415Z"
    },
    "papermill": {
     "duration": 0.015043,
     "end_time": "2024-08-04T16:18:03.593006",
     "exception": false,
     "start_time": "2024-08-04T16:18:03.577963",
     "status": "completed"
    },
    "tags": []
   },
   "outputs": [],
   "source": [
    "festival_counts_df = festival_counts.reset_index()\n",
    "festival_counts_df.columns = ['Country', 'Number of Festivals']"
   ]
  },
  {
   "cell_type": "code",
   "execution_count": 8,
   "id": "bd538d74",
   "metadata": {
    "execution": {
     "iopub.execute_input": "2024-08-04T16:18:03.603484Z",
     "iopub.status.busy": "2024-08-04T16:18:03.603095Z",
     "iopub.status.idle": "2024-08-04T16:18:04.205015Z",
     "shell.execute_reply": "2024-08-04T16:18:04.203898Z"
    },
    "papermill": {
     "duration": 0.610162,
     "end_time": "2024-08-04T16:18:04.207593",
     "exception": false,
     "start_time": "2024-08-04T16:18:03.597431",
     "status": "completed"
    },
    "tags": []
   },
   "outputs": [
    {
     "data": {
      "image/png": "[encoded data removed]",
      "text/plain": [
       "<Figure size 1200x800 with 1 Axes>"
      ]
     },
     "metadata": {},
     "output_type": "display_data"
    }
   ],
   "source": [
    "plt.figure(figsize=(12, 8))\n",
    "sns.barplot(x='Number of Festivals', y='Country', data=festival_counts_df, palette='viridis')\n",
    "plt.xlabel('Number of Festivals')\n",
    "plt.ylabel('Country')\n",
    "plt.title('Number of Music Festivals Organized by Country')\n",
    "plt.show()"
   ]
  }
 ],
 "metadata": {
  "kaggle": {
   "accelerator": "none",
   "dataSources": [
    {
     "datasetId": 5446800,
     "sourceId": 9053628,
     "sourceType": "datasetVersion"
    }
   ],
   "dockerImageVersionId": 30746,
   "isGpuEnabled": false,
   "isInternetEnabled": false,
   "language": "python",
   "sourceType": "notebook"
  },
  "kernelspec": {
   "display_name": "Python 3",
   "language": "python",
   "name": "python3"
  },
  "language_info": {
   "codemirror_mode": {
    "name": "ipython",
    "version": 3
   },
   "file_extension": ".py",
   "mimetype": "text/x-python",
   "name": "python",
   "nbconvert_exporter": "python",
   "pygments_lexer": "ipython3",
   "version": "3.10.13"
  },
  "papermill": {
   "default_parameters": {},
   "duration": 7.024368,
   "end_time": "2024-08-04T16:18:04.833721",
   "environment_variables": {},
   "exception": null,
   "input_path": "__notebook__.ipynb",
   "output_path": "__notebook__.ipynb",
   "parameters": {},
   "start_time": "2024-08-04T16:17:57.809353",
   "version": "2.5.0"
  }
 },
 "nbformat": 4,
 "nbformat_minor": 5
}
